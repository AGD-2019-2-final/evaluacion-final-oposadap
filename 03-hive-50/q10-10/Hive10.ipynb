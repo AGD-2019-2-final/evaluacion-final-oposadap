{
 "cells": [
  {
   "cell_type": "code",
   "execution_count": 1,
   "metadata": {},
   "outputs": [],
   "source": [
    "%load_ext bigdata\n",
    "%timeout 300"
   ]
  },
  {
   "cell_type": "code",
   "execution_count": 2,
   "metadata": {},
   "outputs": [],
   "source": [
    "%hive_start"
   ]
  },
  {
   "cell_type": "code",
   "execution_count": 3,
   "metadata": {},
   "outputs": [
    {
     "name": "stdout",
     "output_type": "stream",
     "text": [
      "DROP TABLE IF EXISTS t0;\n",
      "OK\n",
      "Time taken: 25.929 seconds\n",
      "CREATE TABLE t0 (\n",
      "    c1 STRING,\n",
      "    c2 ARRAY<CHAR(1)>, \n",
      "    c3 MAP<STRING, INT>\n",
      "    )\n",
      "    ROW FORMAT DELIMITED \n",
      "        FIELDS TERMINATED BY '\\t'\n",
      "        COLLECTION ITEMS TERMINATED BY ','\n",
      "        MAP KEYS TERMINATED BY '#'\n",
      "        LINES TERMINATED BY '\\n';\n",
      "OK\n",
      "Time taken: 0.991 seconds\n",
      "LOAD DATA LOCAL INPATH 'data.tsv' INTO TABLE t0;\n",
      "Loading data to table default.t0\n",
      "OK\n",
      "Time taken: 1.576 seconds\n"
     ]
    }
   ],
   "source": [
    "%%hive\n",
    "DROP TABLE IF EXISTS t0;\n",
    "CREATE TABLE t0 (\n",
    "    c1 STRING,\n",
    "    c2 ARRAY<CHAR(1)>, \n",
    "    c3 MAP<STRING, INT>\n",
    "    )\n",
    "    ROW FORMAT DELIMITED \n",
    "        FIELDS TERMINATED BY '\\t'\n",
    "        COLLECTION ITEMS TERMINATED BY ','\n",
    "        MAP KEYS TERMINATED BY '#'\n",
    "        LINES TERMINATED BY '\\n';\n",
    "LOAD DATA LOCAL INPATH 'data.tsv' INTO TABLE t0;"
   ]
  },
  {
   "cell_type": "code",
   "execution_count": 4,
   "metadata": {},
   "outputs": [
    {
     "name": "stdout",
     "output_type": "stream",
     "text": [
      "INSERT OVERWRITE LOCAL DIRECTORY 'output'\n",
      "ROW FORMAT DELIMITED FIELDS TERMINATED BY ','\n",
      "STORED AS TEXTFILE\n"
     ]
    }
   ],
   "source": [
    "%%hive\n",
    "INSERT OVERWRITE LOCAL DIRECTORY 'output'\n",
    "ROW FORMAT DELIMITED FIELDS TERMINATED BY ','\n",
    "STORED AS TEXTFILE"
   ]
  },
  {
   "cell_type": "code",
   "execution_count": 6,
   "metadata": {},
   "outputs": [
    {
     "name": "stdout",
     "output_type": "stream",
     "text": [
      "SELECT key AS Letra, COUNT(1) \n",
      "FROM t0 LATERAL VIEW explode(c3) t0 \n",
      "GROUP BY key;\n",
      "WARNING: Hive-on-MR is deprecated in Hive 2 and may not be available in the future versions. Consider using a different execution engine (i.e. spark, tez) or using Hive 1.X releases.\n",
      "Query ID = root_20200212194334_8a7224a3-a7d0-4d16-8222-9aee91b21391\n",
      "Total jobs = 1\n",
      "Launching Job 1 out of 1\n",
      "Number of reduce tasks not specified. Estimated from input data size: 1\n",
      "In order to change the average load for a reducer (in bytes):\n",
      "  set hive.exec.reducers.bytes.per.reducer=<number>\n",
      "In order to limit the maximum number of reducers:\n",
      "  set hive.exec.reducers.max=<number>\n",
      "In order to set a constant number of reducers:\n",
      "  set mapreduce.job.reduces=<number>\n",
      "Starting Job = job_1581535829595_0003, Tracking URL = http://323073e160dd:8088/proxy/application_1581535829595_0003/\n",
      "Kill Command = /usr/local/hadoop/bin/hadoop job  -kill job_1581535829595_0003\n",
      "Hadoop job information for Stage-1: number of mappers: 1; number of reducers: 1\n",
      "2020-02-12 19:43:52,887 Stage-1 map = 0%,  reduce = 0%\n",
      "2020-02-12 19:44:10,337 Stage-1 map = 100%,  reduce = 0%, Cumulative CPU 2.07 sec\n",
      "2020-02-12 19:44:27,703 Stage-1 map = 100%,  reduce = 100%, Cumulative CPU 4.33 sec\n",
      "MapReduce Total cumulative CPU time: 4 seconds 330 msec\n",
      "Ended Job = job_1581535829595_0003\n",
      "MapReduce Jobs Launched: \n",
      "Stage-Stage-1: Map: 1  Reduce: 1   Cumulative CPU: 4.33 sec   HDFS Read: 12862 HDFS Write: 277 SUCCESS\n",
      "Total MapReduce CPU Time Spent: 4 seconds 330 msec\n",
      "OK\n",
      "aaa\t13\n",
      "bbb\t16\n",
      "ccc\t23\n",
      "ddd\t23\n",
      "eee\t15\n",
      "fff\t20\n",
      "ggg\t13\n",
      "hhh\t16\n",
      "iii\t18\n",
      "jjj\t18\n",
      "Time taken: 56.142 seconds, Fetched: 10 row(s)\n"
     ]
    }
   ],
   "source": [
    "%%hive\n",
    "SELECT key AS Letra, COUNT(1) \n",
    "FROM t0 LATERAL VIEW explode(c3) t0 \n",
    "GROUP BY key;"
   ]
  },
  {
   "cell_type": "code",
   "execution_count": 7,
   "metadata": {},
   "outputs": [],
   "source": [
    "%hive_quit"
   ]
  },
  {
   "cell_type": "code",
   "execution_count": null,
   "metadata": {},
   "outputs": [],
   "source": []
  }
 ],
 "metadata": {
  "kernelspec": {
   "display_name": "Python 3",
   "language": "python",
   "name": "python3"
  },
  "language_info": {
   "codemirror_mode": {
    "name": "ipython",
    "version": 3
   },
   "file_extension": ".py",
   "mimetype": "text/x-python",
   "name": "python",
   "nbconvert_exporter": "python",
   "pygments_lexer": "ipython3",
   "version": "3.6.9"
  }
 },
 "nbformat": 4,
 "nbformat_minor": 4
}
