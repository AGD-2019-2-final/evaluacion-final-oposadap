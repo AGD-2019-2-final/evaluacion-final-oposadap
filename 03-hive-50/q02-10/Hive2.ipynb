{
 "cells": [
  {
   "cell_type": "code",
   "execution_count": 1,
   "metadata": {},
   "outputs": [],
   "source": [
    "%load_ext bigdata"
   ]
  },
  {
   "cell_type": "code",
   "execution_count": 2,
   "metadata": {},
   "outputs": [],
   "source": [
    "%hive_start"
   ]
  },
  {
   "cell_type": "code",
   "execution_count": 3,
   "metadata": {},
   "outputs": [],
   "source": [
    "%timeout 300"
   ]
  },
  {
   "cell_type": "code",
   "execution_count": 4,
   "metadata": {},
   "outputs": [
    {
     "name": "stdout",
     "output_type": "stream",
     "text": [
      "DROP TABLE IF EXISTS u;\n",
      "OK\n",
      "Time taken: 11.818 seconds\n"
     ]
    }
   ],
   "source": [
    "%%hive\n",
    "DROP TABLE IF EXISTS u;"
   ]
  },
  {
   "cell_type": "code",
   "execution_count": 5,
   "metadata": {},
   "outputs": [
    {
     "name": "stdout",
     "output_type": "stream",
     "text": [
      "CREATE TABLE u (col1 STRING,\n",
      "                col2 DATE,\n",
      "                col3 INT)\n"
     ]
    }
   ],
   "source": [
    "%%hive\n",
    "CREATE TABLE u (col1 STRING,\n",
    "                col2 DATE,\n",
    "                col3 INT)"
   ]
  },
  {
   "cell_type": "code",
   "execution_count": 6,
   "metadata": {},
   "outputs": [
    {
     "name": "stdout",
     "output_type": "stream",
     "text": [
      "ROW FORMAT DELIMITED FIELDS TERMINATED BY '\\t';\n",
      "OK\n",
      "Time taken: 11.466 seconds\n"
     ]
    }
   ],
   "source": [
    "%%hive\n",
    "ROW FORMAT DELIMITED FIELDS TERMINATED BY '\\t';"
   ]
  },
  {
   "cell_type": "code",
   "execution_count": 7,
   "metadata": {},
   "outputs": [
    {
     "name": "stdout",
     "output_type": "stream",
     "text": [
      "LOAD DATA LOCAL INPATH \"data.tsv\" OVERWRITE INTO TABLE u;\n",
      "Loading data to table default.u\n",
      "OK\n",
      "Time taken: 1.594 seconds\n"
     ]
    }
   ],
   "source": [
    "%%hive\n",
    "LOAD DATA LOCAL INPATH \"data.tsv\" OVERWRITE INTO TABLE u;"
   ]
  },
  {
   "cell_type": "code",
   "execution_count": 8,
   "metadata": {},
   "outputs": [
    {
     "name": "stdout",
     "output_type": "stream",
     "text": [
      "INSERT OVERWRITE LOCAL DIRECTORY 'output'\n",
      "ROW FORMAT DELIMITED FIELDS TERMINATED BY ','\n",
      "STORED AS TEXTFILE\n"
     ]
    }
   ],
   "source": [
    "%%hive\n",
    "INSERT OVERWRITE LOCAL DIRECTORY 'output'\n",
    "ROW FORMAT DELIMITED FIELDS TERMINATED BY ','\n",
    "STORED AS TEXTFILE"
   ]
  },
  {
   "cell_type": "code",
   "execution_count": 10,
   "metadata": {},
   "outputs": [
    {
     "name": "stdout",
     "output_type": "stream",
     "text": [
      "SELECT col1,col2,col3 FROM u ORDER BY col1,col3,col2;\n",
      "WARNING: Hive-on-MR is deprecated in Hive 2 and may not be available in the future versions. Consider using a different execution engine (i.e. spark, tez) or using Hive 1.X releases.\n",
      "Query ID = root_20200212113506_8c7e27c3-43ee-4367-a2ee-d2b027a67ae1\n",
      "Total jobs = 1\n",
      "Launching Job 1 out of 1\n",
      "Number of reduce tasks determined at compile time: 1\n",
      "In order to change the average load for a reducer (in bytes):\n",
      "  set hive.exec.reducers.bytes.per.reducer=<number>\n",
      "In order to limit the maximum number of reducers:\n",
      "  set hive.exec.reducers.max=<number>\n",
      "In order to set a constant number of reducers:\n",
      "  set mapreduce.job.reduces=<number>\n",
      "Starting Job = job_1581506701840_0004, Tracking URL = http://d6283fd92de4:8088/proxy/application_1581506701840_0004/\n",
      "Kill Command = /usr/local/hadoop/bin/hadoop job  -kill job_1581506701840_0004\n",
      "Hadoop job information for Stage-1: number of mappers: 1; number of reducers: 1\n",
      "2020-02-12 11:35:24,364 Stage-1 map = 0%,  reduce = 0%\n",
      "2020-02-12 11:35:40,760 Stage-1 map = 100%,  reduce = 0%, Cumulative CPU 1.14 sec\n",
      "2020-02-12 11:35:57,018 Stage-1 map = 100%,  reduce = 100%, Cumulative CPU 2.99 sec\n",
      "MapReduce Total cumulative CPU time: 2 seconds 990 msec\n",
      "Ended Job = job_1581506701840_0004\n",
      "MapReduce Jobs Launched: \n",
      "Stage-Stage-1: Map: 1  Reduce: 1   Cumulative CPU: 2.99 sec   HDFS Read: 8269 HDFS Write: 1204 SUCCESS\n",
      "Total MapReduce CPU Time Spent: 2 seconds 990 msec\n",
      "OK\n",
      "A\t1990-10-06\t10\n",
      "A\t1990-09-05\t11\n",
      "A\t1988-04-27\t12\n",
      "A\t1990-08-31\t12\n",
      "A\t1994-10-25\t13\n",
      "A\t1997-12-15\t13\n",
      "A\t1990-09-26\t14\n",
      "A\t1992-08-22\t14\n",
      "A\t1993-01-11\t14\n",
      "A\t1993-05-08\t16\n",
      "A\t1990-07-22\t18\n",
      "A\t1992-09-19\t18\n",
      "B\t1995-08-23\t10\n",
      "B\t1999-06-11\t12\n",
      "B\t1998-11-22\t13\n",
      "B\t1999-10-21\t13\n",
      "B\t1993-03-02\t14\n",
      "B\t1995-09-06\t14\n",
      "B\t1997-04-09\t14\n",
      "B\t1999-08-28\t14\n",
      "B\t1991-10-01\t15\n",
      "B\t1994-08-30\t17\n",
      "C\t1994-01-25\t6\n",
      "C\t1994-07-27\t7\n",
      "C\t1991-02-12\t13\n",
      "C\t1994-09-09\t15\n",
      "D\t1990-10-10\t15\n",
      "E\t1994-02-14\t5\n",
      "E\t1999-09-10\t11\n",
      "E\t1999-12-06\t12\n",
      "E\t1993-01-27\t13\n",
      "E\t1991-02-18\t14\n",
      "E\t1999-01-14\t15\n",
      "E\t1985-02-12\t16\n",
      "E\t1990-05-03\t16\n",
      "E\t1995-04-25\t16\n",
      "E\t1998-09-14\t16\n",
      "E\t1993-07-21\t17\n",
      "E\t1990-02-09\t18\n",
      "E\t1993-12-27\t18\n",
      "Time taken: 52.869 seconds, Fetched: 40 row(s)\n"
     ]
    }
   ],
   "source": [
    "%%hive\n",
    "SELECT col1,col2,col3 \n",
    "FROM u \n",
    "ORDER BY col1,col3,col2;"
   ]
  },
  {
   "cell_type": "code",
   "execution_count": 11,
   "metadata": {},
   "outputs": [],
   "source": [
    "%hive_quit"
   ]
  },
  {
   "cell_type": "code",
   "execution_count": null,
   "metadata": {},
   "outputs": [],
   "source": []
  }
 ],
 "metadata": {
  "kernelspec": {
   "display_name": "Python 3",
   "language": "python",
   "name": "python3"
  },
  "language_info": {
   "codemirror_mode": {
    "name": "ipython",
    "version": 3
   },
   "file_extension": ".py",
   "mimetype": "text/x-python",
   "name": "python",
   "nbconvert_exporter": "python",
   "pygments_lexer": "ipython3",
   "version": "3.6.9"
  }
 },
 "nbformat": 4,
 "nbformat_minor": 4
}
